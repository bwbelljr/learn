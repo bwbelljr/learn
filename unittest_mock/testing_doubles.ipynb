{
 "cells": [
  {
   "cell_type": "code",
   "execution_count": 6,
   "metadata": {},
   "outputs": [],
   "source": [
    "# !pip install requests"
   ]
  },
  {
   "cell_type": "code",
   "execution_count": 8,
   "metadata": {},
   "outputs": [],
   "source": [
    "from requests import Session"
   ]
  },
  {
   "cell_type": "code",
   "execution_count": 9,
   "metadata": {},
   "outputs": [
    {
     "data": {
      "text/plain": [
       "<Response [200]>"
      ]
     },
     "execution_count": 9,
     "metadata": {},
     "output_type": "execute_result"
    }
   ],
   "source": [
    "def get_user_data(user, session):\n",
    "    \"\"\"Given a GitHub user, get its data\"\"\"\n",
    "    url = f\"https://api.github.com/users/{user}\"\n",
    "    response = session.get(url)\n",
    "    return response\n",
    "\n",
    "session = Session()\n",
    "get_user_data(\"mariocj89\", session)"
   ]
  },
  {
   "cell_type": "code",
   "execution_count": 10,
   "metadata": {},
   "outputs": [],
   "source": [
    "class FakeSession:\n",
    "    def get(self, url):\n",
    "        return \"TESTING\""
   ]
  },
  {
   "cell_type": "code",
   "execution_count": 11,
   "metadata": {},
   "outputs": [
    {
     "data": {
      "text/plain": [
       "'TESTING'"
      ]
     },
     "execution_count": 11,
     "metadata": {},
     "output_type": "execute_result"
    }
   ],
   "source": [
    "session = FakeSession()\n",
    "get_user_data(\"mariocj89\", session)"
   ]
  },
  {
   "cell_type": "markdown",
   "metadata": {},
   "source": [
    "More complex behavior!"
   ]
  },
  {
   "cell_type": "code",
   "execution_count": 14,
   "metadata": {},
   "outputs": [
    {
     "data": {
      "text/plain": [
       "'Mario Corchero'"
      ]
     },
     "execution_count": 14,
     "metadata": {},
     "output_type": "execute_result"
    }
   ],
   "source": [
    "def get_user_name(user, session):\n",
    "    \"\"\"Given a GitHub user, get its data\"\"\"\n",
    "    url = f\"https://api.github.com/users/{user}\"\n",
    "    response = session.get(url)\n",
    "    json_response = response.json()\n",
    "    return json_response[\"name\"]\n",
    "\n",
    "session = Session()\n",
    "get_user_data(\"mariocj89\", session)"
   ]
  },
  {
   "cell_type": "code",
   "execution_count": 15,
   "metadata": {},
   "outputs": [
    {
     "data": {
      "text/plain": [
       "'Mr Testing McTest'"
      ]
     },
     "execution_count": 15,
     "metadata": {},
     "output_type": "execute_result"
    }
   ],
   "source": [
    "class FakeSession:\n",
    "    def get(self, url):\n",
    "        return FakeResponse()\n",
    "\n",
    "class FakeResponse:\n",
    "    def json(self):\n",
    "        return {\"name\": \"Mr Testing McTest\"}\n",
    "\n",
    "session = FakeSession()\n",
    "get_user_name(\"mariocj89\", session)   "
   ]
  }
 ],
 "metadata": {
  "interpreter": {
   "hash": "740f20d748d4d0671c5f4091e07149a97a9ed1031fc9f70d998e4108907494a9"
  },
  "kernelspec": {
   "display_name": "Python 3.9.7 64-bit ('pytest_book': conda)",
   "language": "python",
   "name": "python3"
  },
  "language_info": {
   "codemirror_mode": {
    "name": "ipython",
    "version": 3
   },
   "file_extension": ".py",
   "mimetype": "text/x-python",
   "name": "python",
   "nbconvert_exporter": "python",
   "pygments_lexer": "ipython3",
   "version": "3.9.7"
  },
  "orig_nbformat": 4
 },
 "nbformat": 4,
 "nbformat_minor": 2
}
